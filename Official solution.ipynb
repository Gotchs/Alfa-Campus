{
 "cells": [
  {
   "cell_type": "markdown",
   "metadata": {},
   "source": [
    "## Библиотеки "
   ]
  },
  {
   "cell_type": "code",
   "execution_count": 1,
   "metadata": {
    "execution": {
     "iopub.execute_input": "2022-04-29T11:14:09.612517Z",
     "iopub.status.busy": "2022-04-29T11:14:09.611601Z",
     "iopub.status.idle": "2022-04-29T11:14:09.617725Z",
     "shell.execute_reply": "2022-04-29T11:14:09.616729Z",
     "shell.execute_reply.started": "2022-04-29T11:14:09.612464Z"
    }
   },
   "outputs": [],
   "source": [
    "import numpy as np\n",
    "import pandas as pd\n",
    "import warnings\n",
    "warnings.filterwarnings(\"ignore\")"
   ]
  },
  {
   "cell_type": "markdown",
   "metadata": {},
   "source": [
    "## Функции"
   ]
  },
  {
   "cell_type": "code",
   "execution_count": 2,
   "metadata": {
    "execution": {
     "iopub.execute_input": "2022-04-29T11:14:09.622183Z",
     "iopub.status.busy": "2022-04-29T11:14:09.621556Z",
     "iopub.status.idle": "2022-04-29T11:14:09.638102Z",
     "shell.execute_reply": "2022-04-29T11:14:09.637438Z",
     "shell.execute_reply.started": "2022-04-29T11:14:09.622136Z"
    }
   },
   "outputs": [],
   "source": [
    "def apk(actual, predicted, k=10):\n",
    "    if len(predicted) > k:\n",
    "        predicted = predicted[:k]\n",
    "\n",
    "    score = 0.0\n",
    "    num_hits = 0.0\n",
    "\n",
    "    for i, p in enumerate(predicted):\n",
    "        if p in actual and p not in predicted[:i]:\n",
    "            num_hits += 1.0\n",
    "            score += num_hits / (i+1.0)\n",
    "\n",
    "    if not actual:\n",
    "        return 0.0\n",
    "\n",
    "    return score / min(len(actual), k)\n",
    "\n",
    "def mapk(actual, predicted, k=10):\n",
    "    return np.mean([apk(a, p, k) for a, p in zip(actual, predicted)])"
   ]
  },
  {
   "cell_type": "markdown",
   "metadata": {},
   "source": [
    "## Получение данных"
   ]
  },
  {
   "cell_type": "code",
   "execution_count": 3,
   "metadata": {
    "execution": {
     "iopub.execute_input": "2022-04-29T11:14:09.640173Z",
     "iopub.status.busy": "2022-04-29T11:14:09.639436Z",
     "iopub.status.idle": "2022-04-29T11:14:10.031891Z",
     "shell.execute_reply": "2022-04-29T11:14:10.031043Z",
     "shell.execute_reply.started": "2022-04-29T11:14:09.640141Z"
    }
   },
   "outputs": [],
   "source": [
    "df_train = pd.read_csv('df_train.csv', sep=';')\n",
    "df_test = pd.read_csv('df_test.csv', sep=';')"
   ]
  },
  {
   "cell_type": "code",
   "execution_count": 4,
   "metadata": {
    "execution": {
     "iopub.execute_input": "2022-04-29T11:14:10.033129Z",
     "iopub.status.busy": "2022-04-29T11:14:10.03292Z",
     "iopub.status.idle": "2022-04-29T11:14:11.483851Z",
     "shell.execute_reply": "2022-04-29T11:14:11.483019Z",
     "shell.execute_reply.started": "2022-04-29T11:14:10.033103Z"
    }
   },
   "outputs": [],
   "source": [
    "df_train['Data'] = df_train.Data.apply(lambda s: list(map(int, s.split(','))))\n",
    "df_train['Target'] = df_train.Target.apply(lambda s: list(map(int, s.split(','))))\n",
    "df_test['Data'] = df_test.Data.apply(lambda s: list(map(int, s.split(','))))"
   ]
  },
  {
   "cell_type": "markdown",
   "metadata": {},
   "source": [
    "## Модель 1: ранжирование по вероятностям\n",
    "В модели для ранжирования кодов я учитываю временной компонент, то есть более новым транзакциям в последовательности даю больший вес за счет учета их позиций. К примеру, для входной последовательности `[1, 1, 1, 1, 1, 2, 2, 2]` выходная последовательность будет начинаться на `[2, 1 ...]`, поскольку сумма позиций для двойки (6+7+8=21) будет больше, чем для единицы (1+2+3+4+5=15)"
   ]
  },
  {
   "cell_type": "code",
   "execution_count": 5,
   "metadata": {},
   "outputs": [],
   "source": [
    "# Определяю общий топ-10 кодов по их доле во всем корпусе транзакций\n",
    "total_top_10 = (df_train['Data'] + df_train['Target'] + df_test['Data']).explode().value_counts(ascending=False).index[:10]\n",
    "# Длинные последовательности транзакций я буду использовать не целиком,\n",
    "# поэтому определю максимальную длину исходя из среднего значения и подобранного коэффициента\n",
    "alpha = 1.9\n",
    "cutoff = int(np.mean([len(x) for x in df_test['Data']]) / alpha)"
   ]
  },
  {
   "cell_type": "code",
   "execution_count": 6,
   "metadata": {},
   "outputs": [],
   "source": [
    "def tops_by_proba(seq, cutoff=cutoff, drop_from=5):\n",
    "    seq = seq[-cutoff:]\n",
    "    seq_len = len(seq)\n",
    "    # Считаю сумму всех индексов в последовательности кодов, индексация в этом случае начинается с 1\n",
    "    pos_sum = seq_len * (seq_len+1) / 2\n",
    "    probas = {}\n",
    "\n",
    "    for code in np.unique(seq):\n",
    "        # Определяю индексы(позиции), на которых код встречается в последовательности\n",
    "        positions = np.where(np.array(seq) == code)[0] + 1\n",
    "        if len(positions) >= drop_from:\n",
    "            # Вероятность кода для последовательности определяю как отношение суммы его позиций к сумме всех индексов\n",
    "            probas[code] = sum(positions) / pos_sum\n",
    "    \n",
    "    output = sorted(probas, key=probas.get, reverse=True)\n",
    "    \n",
    "    if len(output) < 10:\n",
    "        # Добавляю коды из общего топ-10, если выходная последовательность получилась меньше 10\n",
    "        output += [x for x in total_top_10 if x not in output]\n",
    "\n",
    "    return output[:10]"
   ]
  },
  {
   "cell_type": "code",
   "execution_count": 7,
   "metadata": {
    "execution": {
     "iopub.execute_input": "2022-04-29T11:27:25.726792Z",
     "iopub.status.busy": "2022-04-29T11:27:25.726524Z",
     "iopub.status.idle": "2022-04-29T11:27:25.768098Z",
     "shell.execute_reply": "2022-04-29T11:27:25.76723Z",
     "shell.execute_reply.started": "2022-04-29T11:27:25.726763Z"
    }
   },
   "outputs": [
    {
     "name": "stdout",
     "output_type": "stream",
     "text": [
      "0.336321564551694\n"
     ]
    }
   ],
   "source": [
    "df_train['tops_by_proba'] = df_train['Data'].apply(tops_by_proba, drop_from=2)\n",
    "print(mapk(df_train['Target'], df_train['tops_by_proba']))"
   ]
  },
  {
   "cell_type": "code",
   "execution_count": 8,
   "metadata": {},
   "outputs": [],
   "source": [
    "df_test['Predicted'] = df_test['Data'].apply(tops_by_proba, drop_from=2)\n",
    "\n",
    "submission = df_test[['Id', 'Predicted']]\n",
    "submission['Predicted'] = submission['Predicted'].apply(lambda x: str(x).replace(',', '')[1:-1])\n",
    "submission.to_csv('submission_tops_by_proba_final_2.csv', index=False)"
   ]
  },
  {
   "cell_type": "markdown",
   "metadata": {},
   "source": [
    "## Модель 2: строю выходную последовательность по вероятностям, избегая по возможности повторение кодов\n",
    "Почему я это избегаю? Потому что подстраиваться необходимо под метрику MAP@K, которая не засчитывает повторения. Однако в этой модели я не учитываю топ-10 кодов из всего набора данных, поэтому для некоторых клиентов повторений будет не избежать.\n",
    "\n",
    "Почему здесь я пытаюсь построить последовательность а не ранжирую коды? Потому что таргет по сути является последовательностью, а не набором уникальных кодов. Эта модель - попытка найти компромисс, построив последовательность, но при этом не завалиться на метрике MAP@K."
   ]
  },
  {
   "cell_type": "code",
   "execution_count": 9,
   "metadata": {},
   "outputs": [],
   "source": [
    "def seq_by_weighted_proba_no_repeats(seq):\n",
    "    seq_len = len(seq)\n",
    "    # Считаю сумму всех индексов в последовательности кодов, индексация в этом случае начинается с 1\n",
    "    pos_sum = seq_len * (seq_len+1) / 2\n",
    "    probas = pd.Series(index=np.unique(seq))\n",
    "\n",
    "    for code in probas.index:\n",
    "        # Определяю индексы(позиции), на которых код встречается в последовательности\n",
    "        positions = np.where(np.array(seq) == code)[0] + 1\n",
    "        # Вероятность кода для последовательности определяю как отношение суммы его позиций к сумме всех индексов\n",
    "        probas[code] = sum(positions) / pos_sum\n",
    "    # Для построения выходной последовательности считаю количество повторений кодов исходя из их вероятностей\n",
    "    counts = round(probas.sort_values(ascending=False) * 10)\n",
    "    # Заношу в отдельный список коды с около-нулевой вероятностью\n",
    "    outsider_codes = list(counts[counts == 0].index)\n",
    "    output = [None]\n",
    "\n",
    "    while counts.sum() != 0:\n",
    "        # Итерируюсь по отсортированному списку кодов, чтобы по возможности избежать повторений\n",
    "        for code in counts.index:\n",
    "            if counts[code] != 0:\n",
    "                # Заношу в выходную последовательность код, если ему не предшествует тот же код, или если кончились аутсайдеры\n",
    "                if code != output[-1] or not outsider_codes:\n",
    "                    output.append(code)\n",
    "                    # Для занесенного кода вычитаю 1 из количества его повторений\n",
    "                    counts[code] -= 1\n",
    "                else:\n",
    "                    # Если код \"хочет\" повториться, но есть аутсайдеры - вынимаю из списка самого вероятного аутсайдера\n",
    "                    output.append(outsider_codes.pop(0))\n",
    "    # Получившуюся последовательность дополняю оставшимися аутсайдерами\n",
    "    output += outsider_codes\n",
    "    # Если длина последовательности меньше 10 (без учета None в начале) - дополняю ее самым вероятным кодом до длины 10\n",
    "    output += [counts.index[0]] * (11 - len(output))\n",
    "\n",
    "    return output[1:11]"
   ]
  },
  {
   "cell_type": "code",
   "execution_count": 10,
   "metadata": {},
   "outputs": [
    {
     "name": "stdout",
     "output_type": "stream",
     "text": [
      "0.3041419814525175\n"
     ]
    }
   ],
   "source": [
    "df_train['seq_by_weighted_proba_no_repeats'] = df_train['Data'].apply(seq_by_weighted_proba_no_repeats)\n",
    "print(mapk(df_train['Target'], df_train['seq_by_weighted_proba_no_repeats']))"
   ]
  },
  {
   "cell_type": "code",
   "execution_count": 11,
   "metadata": {},
   "outputs": [],
   "source": [
    "df_test['Predicted'] = df_test['Data'].apply(seq_by_weighted_proba_no_repeats)\n",
    "\n",
    "submission = df_test[['Id', 'Predicted']]\n",
    "submission['Predicted'] = submission['Predicted'].apply(lambda x: str(x).replace(',', '')[1:-1])\n",
    "submission.to_csv('submission_seq_by_weighted_proba_no_repeats_final.csv', index=False)"
   ]
  }
 ],
 "metadata": {
  "kernelspec": {
   "display_name": "Python 3 (ipykernel)",
   "language": "python",
   "name": "python3"
  },
  "language_info": {
   "codemirror_mode": {
    "name": "ipython",
    "version": 3
   },
   "file_extension": ".py",
   "mimetype": "text/x-python",
   "name": "python",
   "nbconvert_exporter": "python",
   "pygments_lexer": "ipython3",
   "version": "3.11.4"
  }
 },
 "nbformat": 4,
 "nbformat_minor": 4
}
