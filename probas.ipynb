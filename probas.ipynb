{
 "cells": [
  {
   "cell_type": "markdown",
   "metadata": {},
   "source": [
    "## Библиотеки "
   ]
  },
  {
   "cell_type": "code",
   "execution_count": 1,
   "metadata": {
    "execution": {
     "iopub.execute_input": "2022-04-29T11:14:09.612517Z",
     "iopub.status.busy": "2022-04-29T11:14:09.611601Z",
     "iopub.status.idle": "2022-04-29T11:14:09.617725Z",
     "shell.execute_reply": "2022-04-29T11:14:09.616729Z",
     "shell.execute_reply.started": "2022-04-29T11:14:09.612464Z"
    }
   },
   "outputs": [],
   "source": [
    "import numpy as np\n",
    "import pandas as pd\n",
    "from collections import Counter\n",
    "import matplotlib.pyplot as plt\n",
    "\n",
    "import warnings\n",
    "warnings.filterwarnings(\"ignore\")"
   ]
  },
  {
   "cell_type": "markdown",
   "metadata": {},
   "source": [
    "## Функции"
   ]
  },
  {
   "cell_type": "code",
   "execution_count": 2,
   "metadata": {
    "execution": {
     "iopub.execute_input": "2022-04-29T11:14:09.622183Z",
     "iopub.status.busy": "2022-04-29T11:14:09.621556Z",
     "iopub.status.idle": "2022-04-29T11:14:09.638102Z",
     "shell.execute_reply": "2022-04-29T11:14:09.637438Z",
     "shell.execute_reply.started": "2022-04-29T11:14:09.622136Z"
    }
   },
   "outputs": [],
   "source": [
    "# https://github.com/benhamner/Metrics/blob/master/Python/ml_metrics/average_precision.py\n",
    "def apk(actual, predicted, k=10):\n",
    "    if len(predicted) > k:\n",
    "        predicted = predicted[:k]\n",
    "\n",
    "    score = 0.0\n",
    "    num_hits = 0.0\n",
    "\n",
    "    for i, p in enumerate(predicted):\n",
    "        if p in actual and p not in predicted[:i]:\n",
    "            num_hits += 1.0\n",
    "            score += num_hits / (i+1.0)\n",
    "\n",
    "    if not actual:\n",
    "        return 0.0\n",
    "\n",
    "    return score / min(len(actual), k)\n",
    "\n",
    "def mapk(actual, predicted, k=10):\n",
    "    return np.mean([apk(a, p, k) for a, p in zip(actual, predicted)])"
   ]
  },
  {
   "cell_type": "code",
   "execution_count": 3,
   "metadata": {},
   "outputs": [],
   "source": [
    "# https://github.com/benhamner/Metrics/blob/master/Python/ml_metrics/average_precision.py\n",
    "def my_apk(actual, predicted, k=10):\n",
    "\n",
    "    if not actual:\n",
    "        return 0.0\n",
    "    \n",
    "    actual_copy = actual.copy()\n",
    "    score = 0.0\n",
    "    num_hits = 0.0\n",
    "\n",
    "    for i, p in enumerate(predicted):\n",
    "        if p in actual_copy:\n",
    "            num_hits += 1.0\n",
    "            score += num_hits / (i+1.0)\n",
    "            actual_copy.remove(p)\n",
    "\n",
    "    return score / len(actual)\n",
    "\n",
    "def my_mapk(actual, predicted, k=10):\n",
    "    return np.mean([my_apk(a, p, k) for a, p in zip(actual, predicted)])"
   ]
  },
  {
   "cell_type": "markdown",
   "metadata": {},
   "source": [
    "## Получение данных"
   ]
  },
  {
   "cell_type": "code",
   "execution_count": 4,
   "metadata": {
    "execution": {
     "iopub.execute_input": "2022-04-29T11:14:09.640173Z",
     "iopub.status.busy": "2022-04-29T11:14:09.639436Z",
     "iopub.status.idle": "2022-04-29T11:14:10.031891Z",
     "shell.execute_reply": "2022-04-29T11:14:10.031043Z",
     "shell.execute_reply.started": "2022-04-29T11:14:09.640141Z"
    }
   },
   "outputs": [],
   "source": [
    "df_train = pd.read_csv('df_train.csv', sep=';')\n",
    "df_test = pd.read_csv('df_test.csv', sep=';')"
   ]
  },
  {
   "cell_type": "code",
   "execution_count": 5,
   "metadata": {
    "execution": {
     "iopub.execute_input": "2022-04-29T11:14:10.033129Z",
     "iopub.status.busy": "2022-04-29T11:14:10.03292Z",
     "iopub.status.idle": "2022-04-29T11:14:11.483851Z",
     "shell.execute_reply": "2022-04-29T11:14:11.483019Z",
     "shell.execute_reply.started": "2022-04-29T11:14:10.033103Z"
    }
   },
   "outputs": [],
   "source": [
    "df_train['Data'] = df_train.Data.apply(lambda s: list(map(int, s.split(','))))\n",
    "df_train['Target'] = df_train.Target.apply(lambda s: list(map(int, s.split(','))))\n",
    "df_test['Data'] = df_test.Data.apply(lambda s: list(map(int, s.split(','))))"
   ]
  },
  {
   "cell_type": "markdown",
   "metadata": {},
   "source": [
    "## Baseline 1: топ10 MCC-кодов из train-части"
   ]
  },
  {
   "cell_type": "markdown",
   "metadata": {},
   "source": [
    "MCC-код и соответствующее количество вхождений в train-часть"
   ]
  },
  {
   "cell_type": "code",
   "execution_count": 6,
   "metadata": {
    "execution": {
     "iopub.execute_input": "2022-04-29T11:14:11.578638Z",
     "iopub.status.busy": "2022-04-29T11:14:11.578071Z",
     "iopub.status.idle": "2022-04-29T11:14:11.870233Z",
     "shell.execute_reply": "2022-04-29T11:14:11.869407Z",
     "shell.execute_reply.started": "2022-04-29T11:14:11.578596Z"
    }
   },
   "outputs": [
    {
     "data": {
      "text/plain": [
       "Data\n",
       "6011    700677\n",
       "6010    490602\n",
       "4814    473396\n",
       "5411    472408\n",
       "4829    307388\n",
       "5499    164719\n",
       "5541     68224\n",
       "5912     65071\n",
       "5331     61833\n",
       "5812     52029\n",
       "Name: count, dtype: int64"
      ]
     },
     "execution_count": 6,
     "metadata": {},
     "output_type": "execute_result"
    }
   ],
   "source": [
    "top10_codes = df_train['Data'].explode().value_counts().head(10)\n",
    "top10_codes"
   ]
  },
  {
   "cell_type": "code",
   "execution_count": 7,
   "metadata": {
    "execution": {
     "iopub.execute_input": "2022-04-29T11:14:11.871904Z",
     "iopub.status.busy": "2022-04-29T11:14:11.871565Z",
     "iopub.status.idle": "2022-04-29T11:14:12.116585Z",
     "shell.execute_reply": "2022-04-29T11:14:12.115645Z",
     "shell.execute_reply.started": "2022-04-29T11:14:11.871871Z"
    }
   },
   "outputs": [
    {
     "name": "stdout",
     "output_type": "stream",
     "text": [
      "0.2742435829727881\n",
      "0.2742435829727881\n"
     ]
    }
   ],
   "source": [
    "print(mapk(df_train['Target'], [top10_codes.index]*len(df_train)))\n",
    "print(my_mapk(df_train['Target'], [top10_codes.index]*len(df_train)))"
   ]
  },
  {
   "cell_type": "code",
   "execution_count": 8,
   "metadata": {},
   "outputs": [
    {
     "name": "stdout",
     "output_type": "stream",
     "text": [
      "0.3754930723415012\n",
      "1.0\n"
     ]
    }
   ],
   "source": [
    "print(mapk(df_train['Target'], df_train['Target']))\n",
    "print(my_mapk(df_train['Target'], df_train['Target']))"
   ]
  },
  {
   "cell_type": "code",
   "execution_count": 9,
   "metadata": {},
   "outputs": [
    {
     "name": "stdout",
     "output_type": "stream",
     "text": [
      "0.4511446040096687\n",
      "0.4511446040096687\n"
     ]
    }
   ],
   "source": [
    "print(mapk(df_train['Target'], df_train['Target'].apply(lambda row: list(set(row)))))\n",
    "print(my_mapk(df_train['Target'], df_train['Target'].apply(lambda row: list(set(row)))))"
   ]
  },
  {
   "cell_type": "markdown",
   "metadata": {},
   "source": [
    "## Baseline 2: cамые популярные транзакции пользователя."
   ]
  },
  {
   "cell_type": "markdown",
   "metadata": {},
   "source": [
    "**Если таких менее 10, то замешиваются топ10 популярных из всей выборки.**"
   ]
  },
  {
   "cell_type": "code",
   "execution_count": 10,
   "metadata": {
    "execution": {
     "iopub.execute_input": "2022-04-29T11:27:16.705475Z",
     "iopub.status.busy": "2022-04-29T11:27:16.705186Z",
     "iopub.status.idle": "2022-04-29T11:27:16.712016Z",
     "shell.execute_reply": "2022-04-29T11:27:16.711084Z",
     "shell.execute_reply.started": "2022-04-29T11:27:16.705447Z"
    }
   },
   "outputs": [],
   "source": [
    "def get_top_codes(transactions, top_n=10, drop_from=5):\n",
    "    transactions_stats = sorted(\n",
    "        Counter(transactions).items(), \n",
    "        key=lambda x: x[1], \n",
    "        reverse=True\n",
    "    )[:top_n]\n",
    "    \n",
    "\n",
    "    top_codes = [mcc_code for (mcc_code, count) in transactions_stats if count >= drop_from]\n",
    "    top_codes += list(top10_codes.index)\n",
    "\n",
    "    return top_codes[:10]"
   ]
  },
  {
   "cell_type": "code",
   "execution_count": 11,
   "metadata": {
    "execution": {
     "iopub.execute_input": "2022-04-29T11:27:24.581273Z",
     "iopub.status.busy": "2022-04-29T11:27:24.581009Z",
     "iopub.status.idle": "2022-04-29T11:27:24.956126Z",
     "shell.execute_reply": "2022-04-29T11:27:24.95527Z",
     "shell.execute_reply.started": "2022-04-29T11:27:24.581246Z"
    }
   },
   "outputs": [],
   "source": [
    "df_train['pred_baseline_2'] = df_train['Data'].apply(get_top_codes)"
   ]
  },
  {
   "cell_type": "code",
   "execution_count": 12,
   "metadata": {
    "execution": {
     "iopub.execute_input": "2022-04-29T11:27:25.726792Z",
     "iopub.status.busy": "2022-04-29T11:27:25.726524Z",
     "iopub.status.idle": "2022-04-29T11:27:25.768098Z",
     "shell.execute_reply": "2022-04-29T11:27:25.76723Z",
     "shell.execute_reply.started": "2022-04-29T11:27:25.726763Z"
    }
   },
   "outputs": [
    {
     "name": "stdout",
     "output_type": "stream",
     "text": [
      "0.3236094127683776\n",
      "0.3893116295288199\n"
     ]
    }
   ],
   "source": [
    "print(mapk(df_train['Target'], df_train['pred_baseline_2']))\n",
    "print(my_mapk(df_train['Target'], df_train['pred_baseline_2']))"
   ]
  },
  {
   "cell_type": "code",
   "execution_count": 13,
   "metadata": {},
   "outputs": [
    {
     "name": "stdout",
     "output_type": "stream",
     "text": [
      "0.3236094127683776\n",
      "0.3893116295288199\n"
     ]
    }
   ],
   "source": [
    "print(mapk(df_train['Target'], df_train['pred_baseline_2']))\n",
    "print(my_mapk(df_train['Target'], df_train['pred_baseline_2']))"
   ]
  },
  {
   "cell_type": "markdown",
   "metadata": {},
   "source": [
    "предсказания из второго бейзлайна"
   ]
  },
  {
   "cell_type": "code",
   "execution_count": 14,
   "metadata": {
    "execution": {
     "iopub.execute_input": "2022-04-29T11:27:31.644781Z",
     "iopub.status.busy": "2022-04-29T11:27:31.644491Z",
     "iopub.status.idle": "2022-04-29T11:27:32.029352Z",
     "shell.execute_reply": "2022-04-29T11:27:32.028438Z",
     "shell.execute_reply.started": "2022-04-29T11:27:31.64475Z"
    }
   },
   "outputs": [],
   "source": [
    "# df_test['Predicted'] = df_test['Data'].apply(get_top_codes)\n",
    "\n",
    "# submission_baseline_2 = df_test[['Id', 'Predicted']]\n",
    "# submission_baseline_2['Predicted'] = submission_baseline_2['Predicted'].astype(str).str.replace(',', '')\n",
    "# submission_baseline_2.to_csv('submission_baseline_2.csv', index=False)"
   ]
  },
  {
   "cell_type": "code",
   "execution_count": 15,
   "metadata": {},
   "outputs": [],
   "source": [
    "# df_test['Predicted'] = (df_train['Data'] + df_train['Target'] + df_test['Data']).apply(get_top_codes)\n",
    "\n",
    "# submission_baseline_2 = df_test[['Id', 'Predicted']]\n",
    "# submission_baseline_2['Predicted'] = submission_baseline_2['Predicted'].astype(str).str.replace(',', '')\n",
    "# submission_baseline_2.to_csv('submission_baseline_all_data.csv', index=False)"
   ]
  },
  {
   "cell_type": "markdown",
   "metadata": {},
   "source": [
    "## Model 1: коды по вероятностям"
   ]
  },
  {
   "cell_type": "code",
   "execution_count": 16,
   "metadata": {},
   "outputs": [],
   "source": [
    "train_proba = df_train['Data'].explode().value_counts(normalize=True)\n",
    "test_proba = df_test['Data'].explode().value_counts(normalize=True)\n",
    "train_test_proba = (df_train['Data'] + df_test['Data']).explode().value_counts(normalize=True)\n",
    "train_target_proba = (df_train['Data'] + df_train['Target']).explode().value_counts(normalize=True)\n",
    "train_test_target_proba = (df_train['Data'] + df_train['Target'] + df_test['Data']).explode().value_counts(normalize=True)"
   ]
  },
  {
   "cell_type": "code",
   "execution_count": 17,
   "metadata": {},
   "outputs": [],
   "source": [
    "def tops_by_proba(seq, base_proba=train_proba, top_n=10, importance=1):\n",
    "    counts = np.unique(seq, return_counts=True)\n",
    "    proba = pd.Series(counts[1], index=counts[0]) / counts[1].sum() * importance\n",
    "    proba = base_proba.add(proba, fill_value=0).sort_values(ascending=False)\n",
    "    return list(proba.index)[:top_n]"
   ]
  },
  {
   "cell_type": "code",
   "execution_count": 18,
   "metadata": {},
   "outputs": [
    {
     "name": "stdout",
     "output_type": "stream",
     "text": [
      "0.3331617781479149\n"
     ]
    }
   ],
   "source": [
    "df_train['Predictions'] = df_train['Data'].apply(tops_by_proba, base_proba=train_proba, top_n=184, importance=7)\n",
    "print(mapk(df_train['Target'], df_train['Predictions']))"
   ]
  },
  {
   "cell_type": "code",
   "execution_count": 19,
   "metadata": {},
   "outputs": [],
   "source": [
    "def tops_by_weighted_proba(seq, base_proba=train_proba, top_n=10, importance=1):\n",
    "    seq_len = len(seq)\n",
    "    index_sum = seq_len * (seq_len+1) / 2\n",
    "    proba = pd.Series(index=np.unique(seq))\n",
    "    \n",
    "    for i in proba.index:\n",
    "        proba[i] = sum(np.where(np.array(seq) == i)[0] + 1) / index_sum * importance\n",
    "\n",
    "    proba = base_proba.add(proba, fill_value=0).sort_values(ascending=False)\n",
    "    return list(proba.index)[:top_n]"
   ]
  },
  {
   "cell_type": "code",
   "execution_count": 20,
   "metadata": {},
   "outputs": [
    {
     "name": "stdout",
     "output_type": "stream",
     "text": [
      "0.33713661107838555\n"
     ]
    }
   ],
   "source": [
    "df_train['Predictions'] = df_train['Data'].apply(tops_by_weighted_proba, base_proba=train_proba, top_n=10, importance=9)\n",
    "print(mapk(df_train['Target'], df_train['Predictions']))"
   ]
  },
  {
   "cell_type": "code",
   "execution_count": 21,
   "metadata": {},
   "outputs": [],
   "source": [
    "def tops_by_normalized_proba(seq):\n",
    "    seq_len = len(seq)\n",
    "    index_sum = seq_len * (seq_len+1) / 2\n",
    "    probas = pd.Series(index=np.unique(seq))\n",
    "\n",
    "    for i in probas.index:\n",
    "        probas[i] = sum(np.where(np.array(seq) == i)[0] + 1) / index_sum\n",
    "\n",
    "    seq_tops = list(probas.sort_values(ascending=False).index)\n",
    "    other_tops = [x for x in top10_codes.index if x not in seq_tops]\n",
    "    \n",
    "    return seq_tops + other_tops"
   ]
  },
  {
   "cell_type": "code",
   "execution_count": 22,
   "metadata": {},
   "outputs": [
    {
     "name": "stdout",
     "output_type": "stream",
     "text": [
      "0.3358076776376222\n"
     ]
    }
   ],
   "source": [
    "df_train['Predictions'] = df_train['Data'].apply(tops_by_normalized_proba)\n",
    "print(mapk(df_train['Target'], df_train['Predictions']))"
   ]
  },
  {
   "cell_type": "code",
   "execution_count": 23,
   "metadata": {},
   "outputs": [],
   "source": [
    "def tops_by_normalized_proba_sliced(seq):\n",
    "    seq_len = len(seq)\n",
    "    index_sum = seq_len * (seq_len+1) / 2\n",
    "    probas = pd.Series(index=np.unique(seq))\n",
    "\n",
    "    for i in probas.index:\n",
    "        probas[i] = sum(np.where(np.array(seq) == i)[0] + 1) / index_sum\n",
    "    \n",
    "    sorted_codes = probas.sort_values(ascending=False).index\n",
    "    \n",
    "    seq_tops = [x for x in sorted_codes if probas[x] >= 0.1]\n",
    "    other_tops = [x for x in top10_codes.index if x not in sorted_codes]\n",
    "    seq_tail = [x for x in sorted_codes if probas[x] < 0.1]\n",
    "\n",
    "    return seq_tops + other_tops + seq_tail"
   ]
  },
  {
   "cell_type": "code",
   "execution_count": 24,
   "metadata": {},
   "outputs": [
    {
     "name": "stdout",
     "output_type": "stream",
     "text": [
      "0.31054917971738677\n"
     ]
    }
   ],
   "source": [
    "df_train['Predictions'] = df_train['Data'].apply(tops_by_normalized_proba_sliced)\n",
    "print(mapk(df_train['Target'], df_train['Predictions']))"
   ]
  },
  {
   "cell_type": "code",
   "execution_count": 25,
   "metadata": {},
   "outputs": [],
   "source": [
    "def seq_by_weighted_proba(seq):\n",
    "    seq_len = len(seq)\n",
    "    index_sum = seq_len * (seq_len+1) / 2\n",
    "    proba = pd.Series(index=np.unique(seq))\n",
    "\n",
    "    for i in proba.index:\n",
    "        proba[i] = sum(np.where(np.array(seq) == i)[0] + 1) / index_sum\n",
    "\n",
    "    output = []\n",
    "    counts = round(proba.sort_values(ascending=False) * 10)\n",
    "\n",
    "    for i in counts.index:\n",
    "        output += [i] * int(counts[i])\n",
    "        if counts[i] == 0:\n",
    "            output += [i]\n",
    "    \n",
    "    return output"
   ]
  },
  {
   "cell_type": "code",
   "execution_count": 26,
   "metadata": {},
   "outputs": [
    {
     "name": "stdout",
     "output_type": "stream",
     "text": [
      "0.20454976990559245\n"
     ]
    }
   ],
   "source": [
    "df_train['Predictions'] = df_train['Data'].apply(seq_by_weighted_proba)\n",
    "print(mapk(df_train['Target'], df_train['Predictions']))"
   ]
  },
  {
   "cell_type": "code",
   "execution_count": 27,
   "metadata": {
    "scrolled": true
   },
   "outputs": [],
   "source": [
    "def seq_by_weighted_proba_choice(seq, size=10):\n",
    "    seq_len = len(seq)\n",
    "    index_sum = seq_len * (seq_len+1) / 2\n",
    "    unique_codes = np.unique(seq)\n",
    "    probabilities = np.zeros_like(unique_codes, dtype='float')\n",
    "\n",
    "    for i, code in enumerate(unique_codes):\n",
    "        probabilities[i] = sum(np.where(np.array(seq) == code)[0] + 1) / index_sum\n",
    "\n",
    "    return list(np.random.choice(unique_codes, size=size, p=probabilities))"
   ]
  },
  {
   "cell_type": "code",
   "execution_count": 28,
   "metadata": {},
   "outputs": [
    {
     "name": "stdout",
     "output_type": "stream",
     "text": [
      "0.1928600994405061\n"
     ]
    }
   ],
   "source": [
    "df_train['Predictions'] = df_train['Data'].apply(seq_by_weighted_proba_choice)\n",
    "print(mapk(df_train['Target'], df_train['Predictions']))"
   ]
  },
  {
   "cell_type": "code",
   "execution_count": 29,
   "metadata": {},
   "outputs": [],
   "source": [
    "def seq_by_proba_circled(seq):\n",
    "    proba = pd.Series(seq).value_counts(normalize=True)\n",
    "    counts = round(proba.sort_values(ascending=False) * 10)\n",
    "    output = []\n",
    "\n",
    "    while counts.sum() != 0:\n",
    "        for i in counts.index:\n",
    "            if counts[i] != 0:\n",
    "                output.append(i)\n",
    "                counts[i] -= 1\n",
    "\n",
    "    for i in counts.index:\n",
    "        if i not in output:\n",
    "            output.append(i)\n",
    "\n",
    "    return output"
   ]
  },
  {
   "cell_type": "code",
   "execution_count": 30,
   "metadata": {},
   "outputs": [
    {
     "name": "stdout",
     "output_type": "stream",
     "text": [
      "0.29443364501590014\n"
     ]
    }
   ],
   "source": [
    "df_train['Predictions'] = df_train['Data'].apply(seq_by_proba_circled)\n",
    "print(mapk(df_train['Target'], df_train['Predictions']))"
   ]
  },
  {
   "cell_type": "code",
   "execution_count": 31,
   "metadata": {},
   "outputs": [],
   "source": [
    "def seq_by_weighted_proba_circled(seq):\n",
    "    seq_len = len(seq)\n",
    "    index_sum = seq_len * (seq_len+1) / 2\n",
    "    proba = pd.Series(index=np.unique(seq))\n",
    "\n",
    "    for i in proba.index:\n",
    "        proba[i] = sum(np.where(np.array(seq) == i)[0] + 1) / index_sum\n",
    "\n",
    "    output = []\n",
    "    counts = round(proba.sort_values(ascending=False) * 10)\n",
    "\n",
    "    while counts.sum() != 0:\n",
    "        for i in counts.index:\n",
    "            if counts[i] != 0:\n",
    "                output.append(i)\n",
    "                counts[i] -= 1\n",
    "\n",
    "    for i in counts.index:\n",
    "        if i not in output:\n",
    "            output.append(i)\n",
    "\n",
    "    return output"
   ]
  },
  {
   "cell_type": "code",
   "execution_count": 32,
   "metadata": {},
   "outputs": [
    {
     "name": "stdout",
     "output_type": "stream",
     "text": [
      "0.30046224262490434\n"
     ]
    }
   ],
   "source": [
    "df_train['Predictions'] = df_train['Data'].apply(seq_by_weighted_proba_circled)\n",
    "print(mapk(df_train['Target'], df_train['Predictions']))"
   ]
  },
  {
   "cell_type": "code",
   "execution_count": 33,
   "metadata": {},
   "outputs": [],
   "source": [
    "def seq_by_weighted_proba_mixed(seq):\n",
    "    seq_len = len(seq)\n",
    "    index_sum = seq_len * (seq_len+1) / 2\n",
    "    probas = pd.Series(index=np.unique(seq))\n",
    "\n",
    "    for code in probas.index:\n",
    "        probas[code] = sum(np.where(np.array(seq) == code)[0] + 1) / index_sum\n",
    "\n",
    "    counts = round(probas.sort_values(ascending=False) * 10)\n",
    "    outsider_codes = list(counts[counts == 0].index) + [x for x in top10_codes.index if x not in probas.index]\n",
    "    output = [None]\n",
    "\n",
    "    while counts.sum() != 0:\n",
    "        for code in counts.index:\n",
    "            if counts[code] != 0:\n",
    "                if code != output[-1] or not outsider_codes:\n",
    "                    output.append(code)\n",
    "                    counts[code] -= 1\n",
    "                else:\n",
    "                    output.append(outsider_codes.pop(0))\n",
    "\n",
    "    output += outsider_codes\n",
    "\n",
    "    return output[1:]"
   ]
  },
  {
   "cell_type": "code",
   "execution_count": 34,
   "metadata": {},
   "outputs": [
    {
     "name": "stdout",
     "output_type": "stream",
     "text": [
      "0.3042841682860167\n"
     ]
    }
   ],
   "source": [
    "df_train['Predictions'] = df_train['Data'].apply(seq_by_weighted_proba_mixed)\n",
    "print(mapk(df_train['Target'], df_train['Predictions']))"
   ]
  },
  {
   "cell_type": "code",
   "execution_count": 35,
   "metadata": {},
   "outputs": [],
   "source": [
    "def seq_by_weighted_proba_no_repeats(seq):\n",
    "    seq_len = len(seq)\n",
    "    pos_sum = seq_len * (seq_len+1) / 2\n",
    "    probas = pd.Series(index=np.unique(seq))\n",
    "\n",
    "    for code in probas.index:\n",
    "        positions = np.where(np.array(seq) == code)[0] + 1\n",
    "        probas[code] = sum(positions) / pos_sum\n",
    "\n",
    "    counts = round(probas.sort_values(ascending=False) * 10)\n",
    "    outsider_codes = list(counts[counts == 0].index)\n",
    "    output = [None]\n",
    "\n",
    "    while counts.sum() != 0:\n",
    "        for code in counts.index:\n",
    "            if counts[code] != 0:\n",
    "                if code != output[-1] or not outsider_codes:\n",
    "                    output.append(code)\n",
    "                    counts[code] -= 1\n",
    "                else:\n",
    "                    output.append(outsider_codes.pop(0))\n",
    "\n",
    "    output += outsider_codes\n",
    "    output += [counts.index[0]] * (11 - len(output))\n",
    "\n",
    "    return output[1:]"
   ]
  },
  {
   "cell_type": "code",
   "execution_count": 36,
   "metadata": {},
   "outputs": [
    {
     "name": "stdout",
     "output_type": "stream",
     "text": [
      "0.3041419814525175\n"
     ]
    }
   ],
   "source": [
    "df_train['Predictions'] = df_train['Data'].apply(seq_by_weighted_proba_no_repeats)\n",
    "print(mapk(df_train['Target'], df_train['Predictions']))"
   ]
  },
  {
   "cell_type": "code",
   "execution_count": 37,
   "metadata": {},
   "outputs": [],
   "source": [
    "def seq_by_probas(seq):\n",
    "    seq_len = len(seq)\n",
    "    pos_sum = seq_len * (seq_len+1) / 2\n",
    "    probas = {}\n",
    "\n",
    "    for code in np.unique(seq):\n",
    "        positions = np.where(np.array(seq) == code)[0] + 1\n",
    "        probas[code] = sum(positions) / pos_sum\n",
    "\n",
    "    output = []\n",
    "\n",
    "    while any(val > 0 for val in probas.values()):\n",
    "        next_code = max(probas, key=probas.get)\n",
    "        output.append(next_code)\n",
    "        probas[next_code] -= 0.1\n",
    "\n",
    "    return output"
   ]
  },
  {
   "cell_type": "code",
   "execution_count": 38,
   "metadata": {},
   "outputs": [
    {
     "name": "stdout",
     "output_type": "stream",
     "text": [
      "0.2395271215742565\n"
     ]
    }
   ],
   "source": [
    "df_train['Predictions'] = df_train['Data'].apply(seq_by_probas)\n",
    "print(mapk(df_train['Target'], df_train['Predictions']))"
   ]
  },
  {
   "cell_type": "code",
   "execution_count": 39,
   "metadata": {},
   "outputs": [],
   "source": [
    "def seq_by_probas_no_repeats(seq):\n",
    "    seq_len = len(seq)\n",
    "    pos_sum = seq_len * (seq_len+1) / 2\n",
    "    probas = {}\n",
    "\n",
    "    for code in np.unique(seq):\n",
    "        positions = np.where(np.array(seq) == code)[0] + 1\n",
    "        probas[code] = sum(positions) / pos_sum\n",
    "\n",
    "    output = [None]\n",
    "\n",
    "    while any(val > 0 for val in probas.values()):\n",
    "        next_code = sorted(probas, key=probas.get)[-1]\n",
    "        if next_code == output[-1]:\n",
    "            try:\n",
    "                next_code = sorted(probas, key=probas.get)[-2]\n",
    "            except:\n",
    "                pass\n",
    "        output.append(next_code)\n",
    "        probas[next_code] -= 0.1\n",
    "\n",
    "    return output[1:]"
   ]
  },
  {
   "cell_type": "code",
   "execution_count": 40,
   "metadata": {},
   "outputs": [
    {
     "name": "stdout",
     "output_type": "stream",
     "text": [
      "0.2660750735196207\n"
     ]
    }
   ],
   "source": [
    "df_train['Predictions'] = df_train['Data'].apply(seq_by_probas_no_repeats)\n",
    "print(mapk(df_train['Target'], df_train['Predictions']))"
   ]
  },
  {
   "cell_type": "code",
   "execution_count": 41,
   "metadata": {},
   "outputs": [],
   "source": [
    "total_proba = (df_train['Data'] + df_train['Target'] + df_test['Data']).explode().value_counts(ascending=True)\n",
    "codes_dict = {code: i for i, code in enumerate(total_proba.index)}"
   ]
  },
  {
   "cell_type": "code",
   "execution_count": 42,
   "metadata": {},
   "outputs": [],
   "source": [
    "def seq_by_probas_no_repeats_fixed(seq):\n",
    "    seq_len = len(seq)\n",
    "    pos_sum = seq_len * (seq_len+1) / 2\n",
    "    probas = {}\n",
    "\n",
    "    for code in np.unique(seq):\n",
    "        positions = np.where(np.array(seq) == code)[0] + 1\n",
    "        probas[code] = sum(positions) / pos_sum\n",
    "\n",
    "    output = [None]\n",
    "\n",
    "    while any(val > 0 for val in probas.values()):\n",
    "        max_ = max(probas.values())\n",
    "        next_code = [key for key, val in probas.items() if val == max_]\n",
    "        next_code = max(next_code, key=codes_dict.get)\n",
    "        \n",
    "        if next_code == output[-1]:\n",
    "            try:\n",
    "                probas_copy = probas.copy()\n",
    "                del probas_copy[next_code]\n",
    "                max_ = max(probas_copy.values())\n",
    "                next_code = [key for key, val in probas_copy.items() if val == max_]\n",
    "                next_code = max(next_code, key=codes_dict.get)\n",
    "            except:\n",
    "                pass\n",
    "        \n",
    "        output.append(next_code)\n",
    "        probas[next_code] -= 0.1\n",
    "\n",
    "    return output[1:]"
   ]
  },
  {
   "cell_type": "code",
   "execution_count": 43,
   "metadata": {},
   "outputs": [
    {
     "name": "stdout",
     "output_type": "stream",
     "text": [
      "0.266087328670508\n"
     ]
    }
   ],
   "source": [
    "df_train['Predictions'] = df_train['Data'].apply(seq_by_probas_no_repeats_fixed)\n",
    "print(mapk(df_train['Target'], df_train['Predictions']))"
   ]
  },
  {
   "cell_type": "code",
   "execution_count": 44,
   "metadata": {},
   "outputs": [
    {
     "data": {
      "text/plain": [
       "Index([6011, 6010, 4814, 5411, 4829, 5499, 5541, 5912, 5331, 5812], dtype='object')"
      ]
     },
     "execution_count": 44,
     "metadata": {},
     "output_type": "execute_result"
    }
   ],
   "source": [
    "total_top_10 = (df_train['Data'] + df_train['Target'] + df_test['Data']).explode().value_counts(ascending=False).index[:10]\n",
    "total_top_10"
   ]
  },
  {
   "cell_type": "code",
   "execution_count": 45,
   "metadata": {},
   "outputs": [],
   "source": [
    "def tops_by_proba_final(seq, cutoff=250, drop_from=3):\n",
    "    seq = seq[-cutoff:]\n",
    "    seq_len = len(seq)\n",
    "    pos_sum = seq_len * (seq_len+1) / 2\n",
    "    probas = {}\n",
    "\n",
    "    for code in np.unique(seq):\n",
    "        positions = np.where(np.array(seq) == code)[0] + 1\n",
    "        if len(positions) >= drop_from:\n",
    "            probas[code] = sum(positions) / pos_sum\n",
    "\n",
    "    output = sorted(probas, key=probas.get, reverse=True)\n",
    "\n",
    "    if len(output) < 10:\n",
    "        output += [x for x in total_top_10 if x not in output]\n",
    "\n",
    "    return output[:10]"
   ]
  },
  {
   "cell_type": "code",
   "execution_count": 46,
   "metadata": {},
   "outputs": [
    {
     "name": "stdout",
     "output_type": "stream",
     "text": [
      "0.3354597261436448\n"
     ]
    }
   ],
   "source": [
    "df_train['Predictions'] = df_train['Data'].apply(tops_by_proba_final)\n",
    "print(mapk(df_train['Target'], df_train['Predictions']))"
   ]
  },
  {
   "cell_type": "code",
   "execution_count": 47,
   "metadata": {},
   "outputs": [
    {
     "data": {
      "text/plain": [
       "(10, 10)"
      ]
     },
     "execution_count": 47,
     "metadata": {},
     "output_type": "execute_result"
    }
   ],
   "source": [
    "df_test['Predicted'] = df_test['Data'].apply(tops_by_proba_final)\n",
    "min([len(x) for x in df_test['Predicted']]), max([len(x) for x in df_test['Predicted']])"
   ]
  },
  {
   "cell_type": "code",
   "execution_count": null,
   "metadata": {},
   "outputs": [],
   "source": [
    "# df_test['Predicted'] = df_test['Data'].apply(tops_by_proba, base_proba=test_proba, top_n=184)\n",
    "\n",
    "# submission = df_test[['Id', 'Predicted']]\n",
    "# submission['Predicted'] = submission['Predicted'].astype(str).str.replace(',', '')\n",
    "# submission.to_csv('submission_proba_1.csv', index=False)"
   ]
  },
  {
   "cell_type": "code",
   "execution_count": null,
   "metadata": {},
   "outputs": [],
   "source": [
    "# df_test['Predicted'] = df_test['Data'].apply(tops_by_proba, base_proba=test_proba, top_n=10)\n",
    "\n",
    "# submission = df_test[['Id', 'Predicted']]\n",
    "# submission['Predicted'] = submission['Predicted'].astype(str).str.replace(',', '')\n",
    "# submission.to_csv('submission_proba_2.csv', index=False)"
   ]
  },
  {
   "cell_type": "code",
   "execution_count": null,
   "metadata": {},
   "outputs": [],
   "source": [
    "# df_test['Predicted'] = df_test['Data'].apply(tops_by_proba, base_proba=test_proba, top_n=184, importance=7)\n",
    "\n",
    "# submission = df_test[['Id', 'Predicted']]\n",
    "# submission['Predicted'] = submission['Predicted'].astype(str).str.replace(',', '')\n",
    "# submission.to_csv('submission_proba_weighted_1.csv', index=False)"
   ]
  },
  {
   "cell_type": "code",
   "execution_count": null,
   "metadata": {},
   "outputs": [],
   "source": [
    "# df_test['Predicted'] = df_test['Data'].apply(tops_by_proba, base_proba=train_test_target_proba, top_n=184, importance=7)\n",
    "\n",
    "# submission = df_test[['Id', 'Predicted']]\n",
    "# submission['Predicted'] = submission['Predicted'].astype(str).str.replace(',', '')\n",
    "# submission.to_csv('submission_proba_weighted_2.csv', index=False)"
   ]
  },
  {
   "cell_type": "code",
   "execution_count": null,
   "metadata": {},
   "outputs": [],
   "source": [
    "# df_test['Predicted'] = df_test['Data'].apply(tops_by_weighted_proba, base_proba=test_proba, top_n=20, importance=9)\n",
    "\n",
    "# submission = df_test[['Id', 'Predicted']]\n",
    "# submission['Predicted'] = submission['Predicted'].astype(str).str.replace(',', '')\n",
    "# submission.to_csv('submission_proba_weighted_3.csv', index=False)"
   ]
  },
  {
   "cell_type": "code",
   "execution_count": null,
   "metadata": {},
   "outputs": [],
   "source": [
    "# df_test['Predicted'] = df_test['Data'].apply(seq_by_weighted_proba)\n",
    "\n",
    "# submission = df_test[['Id', 'Predicted']]\n",
    "# submission['Predicted'] = submission['Predicted'].astype(str).str.replace(',', '')\n",
    "# submission.to_csv('submission_seq_by_weighted_proba_2.csv', index=False)"
   ]
  },
  {
   "cell_type": "code",
   "execution_count": null,
   "metadata": {},
   "outputs": [],
   "source": [
    "# df_test['Predicted'] = df_test['Data'].apply(seq_by_weighted_proba_choice, size=10)\n",
    "\n",
    "# submission = df_test[['Id', 'Predicted']]\n",
    "# submission['Predicted'] = submission['Predicted'].astype(str).str.replace(',', '')\n",
    "# submission.to_csv('submission_seq_by_weighted_proba_choice_1.csv', index=False)"
   ]
  },
  {
   "cell_type": "code",
   "execution_count": null,
   "metadata": {},
   "outputs": [],
   "source": [
    "# df_test['Predicted'] = df_test['Data'].apply(seq_by_weighted_proba_choice, size=100)\n",
    "\n",
    "# submission = df_test[['Id', 'Predicted']]\n",
    "# submission['Predicted'] = submission['Predicted'].astype(str).str.replace(',', '')\n",
    "# submission.to_csv('submission_seq_by_weighted_proba_choice_2.csv', index=False)"
   ]
  },
  {
   "cell_type": "code",
   "execution_count": null,
   "metadata": {},
   "outputs": [],
   "source": [
    "# df_test['Predicted'] = df_test['Data'].apply(tops_by_normalized_proba)\n",
    "\n",
    "# submission = df_test[['Id', 'Predicted']]\n",
    "# submission['Predicted'] = submission['Predicted'].astype(str).str.replace(',', '')\n",
    "# submission.to_csv('tops_by_normalized_proba_1.csv', index=False)"
   ]
  },
  {
   "cell_type": "code",
   "execution_count": null,
   "metadata": {},
   "outputs": [],
   "source": [
    "# df_test['Predicted'] = df_test['Data'].apply(tops_by_normalized_proba_sliced)\n",
    "\n",
    "# submission = df_test[['Id', 'Predicted']]\n",
    "# submission['Predicted'] = submission['Predicted'].astype(str).str.replace(',', '')\n",
    "# submission.to_csv('submission_tops_by_normalized_proba_sliced_1.csv', index=False)"
   ]
  },
  {
   "cell_type": "code",
   "execution_count": null,
   "metadata": {},
   "outputs": [],
   "source": [
    "# df_test['Predicted'] = df_test['Data'].apply(seq_by_weighted_proba)\n",
    "\n",
    "# submission = df_test[['Id', 'Predicted']]\n",
    "# submission['Predicted'] = submission['Predicted'].astype(str).str.replace(',', '')\n",
    "# submission.to_csv('submission_seq_by_weighted_proba_4.csv', index=False)"
   ]
  },
  {
   "cell_type": "code",
   "execution_count": null,
   "metadata": {},
   "outputs": [],
   "source": [
    "# df_test['Predicted'] = df_test['Data'].apply(seq_by_weighted_proba_circled)\n",
    "\n",
    "# submission = df_test[['Id', 'Predicted']]\n",
    "# submission['Predicted'] = submission['Predicted'].astype(str).str.replace(',', '')\n",
    "# submission.to_csv('submission_seq_by_weighted_proba_circled_1.csv', index=False)"
   ]
  },
  {
   "cell_type": "code",
   "execution_count": null,
   "metadata": {},
   "outputs": [],
   "source": [
    "# df_test['Predicted'] = df_test['Data'].apply(seq_by_proba_circled)\n",
    "\n",
    "# submission = df_test[['Id', 'Predicted']]\n",
    "# submission['Predicted'] = submission['Predicted'].astype(str).str.replace(',', '')\n",
    "# submission.to_csv('submission_seq_by_proba_circled_1.csv', index=False)"
   ]
  },
  {
   "cell_type": "code",
   "execution_count": null,
   "metadata": {},
   "outputs": [],
   "source": [
    "# df_test['Predicted'] = df_test['Data'].apply(seq_by_weighted_proba_no_repeats)\n",
    "\n",
    "# submission = df_test[['Id', 'Predicted']]\n",
    "# submission['Predicted'] = submission['Predicted'].astype(str).str.replace(',', '')\n",
    "# submission.to_csv('submission_seq_by_weighted_proba_no_repeats_1.csv', index=False)"
   ]
  },
  {
   "cell_type": "code",
   "execution_count": null,
   "metadata": {},
   "outputs": [],
   "source": [
    "# df_test['Predicted'] = df_test['Data'].apply(seq_by_weighted_proba_mixed)\n",
    "\n",
    "# submission = df_test[['Id', 'Predicted']]\n",
    "# submission['Predicted'] = submission['Predicted'].astype(str).str.replace(',', '')\n",
    "# submission.to_csv('submission_seq_by_weighted_proba_mixed_1.csv', index=False)"
   ]
  },
  {
   "cell_type": "code",
   "execution_count": null,
   "metadata": {},
   "outputs": [],
   "source": [
    "# df_test['Predicted'] = df_test['Data'].apply(seq_by_weighted_proba_mixed)\n",
    "\n",
    "# submission = df_test[['Id', 'Predicted']]\n",
    "# submission['Predicted'] = submission['Predicted'].astype(str).str.replace(',', '')\n",
    "# submission.to_csv('submission_seq_by_weighted_proba_mixed_2.csv', index=False)"
   ]
  },
  {
   "cell_type": "code",
   "execution_count": null,
   "metadata": {},
   "outputs": [],
   "source": [
    "# df_test['Predicted'] = df_test['Data'].apply(seq_by_combined_proba)\n",
    "\n",
    "# submission = df_test[['Id', 'Predicted']]\n",
    "# submission['Predicted'] = submission['Predicted'].astype(str).str.replace(',', '')\n",
    "# submission.to_csv('submission_seq_by_combined_proba_1.csv', index=False)"
   ]
  },
  {
   "cell_type": "code",
   "execution_count": null,
   "metadata": {},
   "outputs": [],
   "source": [
    "# df_test['Predicted'] = df_test['Data'].apply(seq_by_probas)\n",
    "\n",
    "# submission = df_test[['Id', 'Predicted']]\n",
    "# submission['Predicted'] = submission['Predicted'].astype(str).str.replace(',', '')\n",
    "# submission.to_csv('submission_seq_by_probas_1.csv', index=False)"
   ]
  },
  {
   "cell_type": "code",
   "execution_count": null,
   "metadata": {},
   "outputs": [],
   "source": [
    "# df_test['Predicted'] = df_test['Data'].apply(seq_by_probas_no_repeats)\n",
    "\n",
    "# submission = df_test[['Id', 'Predicted']]\n",
    "# submission['Predicted'] = submission['Predicted'].astype(str).str.replace(',', '')\n",
    "# submission.to_csv('submission_seq_by_probas_no_repeats_1.csv', index=False)"
   ]
  },
  {
   "cell_type": "code",
   "execution_count": null,
   "metadata": {},
   "outputs": [],
   "source": [
    "# df_test['Predicted'] = df_test['Data'].apply(seq_by_combined_probas_no_repeats)\n",
    "\n",
    "# submission = df_test[['Id', 'Predicted']]\n",
    "# submission['Predicted'] = submission['Predicted'].astype(str).str.replace(',', '')\n",
    "# submission.to_csv('submission_seq_by_combined_probas_no_repeats_1.csv', index=False)"
   ]
  },
  {
   "cell_type": "code",
   "execution_count": null,
   "metadata": {},
   "outputs": [],
   "source": [
    "# df_test['Predicted'] = df_test['Data'].apply(seq_by_probas_no_repeats_fixed)\n",
    "\n",
    "# submission = df_test[['Id', 'Predicted']]\n",
    "# submission['Predicted'] = submission['Predicted'].astype(str).str.replace(',', '')\n",
    "# submission.to_csv('submission_seq_by_probas_no_repeats_fixed_1.csv', index=False)"
   ]
  },
  {
   "cell_type": "code",
   "execution_count": null,
   "metadata": {},
   "outputs": [],
   "source": [
    "# df_test['Predicted'] = df_test['Data'].apply(seq_by_weighted_proba_no_repeats)\n",
    "\n",
    "# submission = df_test[['Id', 'Predicted']]\n",
    "# submission['Predicted'] = submission['Predicted'].astype(str).str.replace(',', '')\n",
    "# submission.to_csv('submission_seq_by_weighted_proba_no_repeats_2.csv', index=False)"
   ]
  },
  {
   "cell_type": "code",
   "execution_count": null,
   "metadata": {},
   "outputs": [],
   "source": [
    "# df_test['Predicted'] = df_test['Data'].apply(seq_by_weighted_proba_no_repeats)\n",
    "\n",
    "# submission = df_test[['Id', 'Predicted']]\n",
    "# submission['Predicted'] = submission['Predicted'].astype(str).str.replace(',', '')\n",
    "# submission.to_csv('submission_seq_by_weighted_proba_no_repeats_3.csv', index=False)"
   ]
  },
  {
   "cell_type": "code",
   "execution_count": null,
   "metadata": {},
   "outputs": [],
   "source": [
    "# df_test['Predicted'] = df_test['Data'].apply(seq_by_probas_no_repeats_fixed)\n",
    "\n",
    "# submission = df_test[['Id', 'Predicted']]\n",
    "# submission['Predicted'] = submission['Predicted'].astype(str).str.replace(',', '')\n",
    "# submission.to_csv('submission_seq_by_probas_no_repeats_fixed_2.csv', index=False)"
   ]
  },
  {
   "cell_type": "code",
   "execution_count": 56,
   "metadata": {},
   "outputs": [],
   "source": [
    "# df_test['Predicted'] = df_test['Data'].apply(tops_by_proba_final)\n",
    "\n",
    "# submission = df_test[['Id', 'Predicted']]\n",
    "# submission['Predicted'] = submission['Predicted'].astype(str).str.replace(',', '')\n",
    "# submission.to_csv('submission_tops_by_proba_final_1.csv', index=False)"
   ]
  },
  {
   "cell_type": "code",
   "execution_count": 61,
   "metadata": {},
   "outputs": [],
   "source": [
    "# df_test['Predicted'] = df_test['Data'].apply(get_top_codes_some)\n",
    "\n",
    "# submission = df_test[['Id', 'Predicted']]\n",
    "# submission['Predicted'] = submission['Predicted'].astype(str).str.replace(',', '')\n",
    "# submission.to_csv('submission_get_top_codes_some_1.csv', index=False)"
   ]
  }
 ],
 "metadata": {
  "kernelspec": {
   "display_name": "Python 3 (ipykernel)",
   "language": "python",
   "name": "python3"
  },
  "language_info": {
   "codemirror_mode": {
    "name": "ipython",
    "version": 3
   },
   "file_extension": ".py",
   "mimetype": "text/x-python",
   "name": "python",
   "nbconvert_exporter": "python",
   "pygments_lexer": "ipython3",
   "version": "3.11.5"
  }
 },
 "nbformat": 4,
 "nbformat_minor": 4
}
