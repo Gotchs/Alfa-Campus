{
 "cells": [
  {
   "cell_type": "markdown",
   "metadata": {},
   "source": [
    "## Библиотеки "
   ]
  },
  {
   "cell_type": "code",
   "execution_count": 1,
   "metadata": {
    "execution": {
     "iopub.execute_input": "2022-04-29T11:14:09.612517Z",
     "iopub.status.busy": "2022-04-29T11:14:09.611601Z",
     "iopub.status.idle": "2022-04-29T11:14:09.617725Z",
     "shell.execute_reply": "2022-04-29T11:14:09.616729Z",
     "shell.execute_reply.started": "2022-04-29T11:14:09.612464Z"
    }
   },
   "outputs": [],
   "source": [
    "import numpy as np\n",
    "import pandas as pd\n",
    "import warnings\n",
    "warnings.filterwarnings(\"ignore\")"
   ]
  },
  {
   "cell_type": "markdown",
   "metadata": {},
   "source": [
    "## Функции"
   ]
  },
  {
   "cell_type": "code",
   "execution_count": 2,
   "metadata": {
    "execution": {
     "iopub.execute_input": "2022-04-29T11:14:09.622183Z",
     "iopub.status.busy": "2022-04-29T11:14:09.621556Z",
     "iopub.status.idle": "2022-04-29T11:14:09.638102Z",
     "shell.execute_reply": "2022-04-29T11:14:09.637438Z",
     "shell.execute_reply.started": "2022-04-29T11:14:09.622136Z"
    }
   },
   "outputs": [],
   "source": [
    "def apk(actual, predicted, k=10):\n",
    "    if len(predicted) > k:\n",
    "        predicted = predicted[:k]\n",
    "\n",
    "    score = 0.0\n",
    "    num_hits = 0.0\n",
    "\n",
    "    for i, p in enumerate(predicted):\n",
    "        if p in actual and p not in predicted[:i]:\n",
    "            num_hits += 1.0\n",
    "            score += num_hits / (i+1.0)\n",
    "\n",
    "    if not actual:\n",
    "        return 0.0\n",
    "\n",
    "    return score / min(len(actual), k)\n",
    "\n",
    "def mapk(actual, predicted, k=10):\n",
    "    return np.mean([apk(a, p, k) for a, p in zip(actual, predicted)])"
   ]
  },
  {
   "cell_type": "markdown",
   "metadata": {},
   "source": [
    "## Получение данных"
   ]
  },
  {
   "cell_type": "code",
   "execution_count": 3,
   "metadata": {
    "execution": {
     "iopub.execute_input": "2022-04-29T11:14:09.640173Z",
     "iopub.status.busy": "2022-04-29T11:14:09.639436Z",
     "iopub.status.idle": "2022-04-29T11:14:10.031891Z",
     "shell.execute_reply": "2022-04-29T11:14:10.031043Z",
     "shell.execute_reply.started": "2022-04-29T11:14:09.640141Z"
    }
   },
   "outputs": [],
   "source": [
    "df_train = pd.read_csv('df_train.csv', sep=';')\n",
    "df_test = pd.read_csv('df_test.csv', sep=';')"
   ]
  },
  {
   "cell_type": "code",
   "execution_count": 4,
   "metadata": {
    "execution": {
     "iopub.execute_input": "2022-04-29T11:14:10.033129Z",
     "iopub.status.busy": "2022-04-29T11:14:10.03292Z",
     "iopub.status.idle": "2022-04-29T11:14:11.483851Z",
     "shell.execute_reply": "2022-04-29T11:14:11.483019Z",
     "shell.execute_reply.started": "2022-04-29T11:14:10.033103Z"
    }
   },
   "outputs": [],
   "source": [
    "df_train['Data'] = df_train.Data.apply(lambda s: list(map(int, s.split(','))))\n",
    "df_train['Target'] = df_train.Target.apply(lambda s: list(map(int, s.split(','))))\n",
    "df_test['Data'] = df_test.Data.apply(lambda s: list(map(int, s.split(','))))"
   ]
  },
  {
   "cell_type": "markdown",
   "metadata": {},
   "source": [
    "## Ранжирование по вероятностям\n",
    "В модели для ранжирования кодов я учитываю временной контекст, то есть более новым транзакциям в последовательности даю больший вес за счет учета их позиций. К примеру, для входной последовательности `[1, 1, 1, 1, 1, 2, 2, 2]` выход будет `[2, 1]`, поскольку сумма позиций для двойки `(6+7+8 = 21)` будет больше, чем для единицы `(1+2+3+4+5 = 15)`"
   ]
  },
  {
   "cell_type": "code",
   "execution_count": 5,
   "metadata": {},
   "outputs": [],
   "source": [
    "total_top_10 = (df_train['Data'] + df_train['Target'] + df_test['Data']).explode().value_counts(ascending=False).index[:10]\n",
    "alpha = 1.7\n",
    "max_length = int(np.mean([len(x) for x in df_test['Data']]) / alpha)"
   ]
  },
  {
   "cell_type": "code",
   "execution_count": 9,
   "metadata": {},
   "outputs": [
    {
     "data": {
      "text/plain": [
       "280"
      ]
     },
     "execution_count": 9,
     "metadata": {},
     "output_type": "execute_result"
    }
   ],
   "source": [
    "max_length"
   ]
  },
  {
   "cell_type": "code",
   "execution_count": 6,
   "metadata": {},
   "outputs": [],
   "source": [
    "def tops_by_weight(seq, max_length=max_length, drop_from=2):\n",
    "    seq = seq[-max_length:]\n",
    "    seq_len = len(seq)\n",
    "    pos_sum = seq_len * (seq_len+1) / 2\n",
    "    codes = {}\n",
    "\n",
    "    for code in np.unique(seq):\n",
    "        positions = np.where(np.array(seq) == code)[0] + 1\n",
    "        if len(positions) >= drop_from:\n",
    "            codes[code] = sum(positions) / pos_sum\n",
    "    \n",
    "    output = sorted(codes, key=codes.get, reverse=True)\n",
    "    \n",
    "    if len(output) < 10:\n",
    "        output += [x for x in total_top_10 if x not in output]\n",
    "\n",
    "    return output[:10]"
   ]
  },
  {
   "cell_type": "code",
   "execution_count": 7,
   "metadata": {
    "execution": {
     "iopub.execute_input": "2022-04-29T11:27:25.726792Z",
     "iopub.status.busy": "2022-04-29T11:27:25.726524Z",
     "iopub.status.idle": "2022-04-29T11:27:25.768098Z",
     "shell.execute_reply": "2022-04-29T11:27:25.76723Z",
     "shell.execute_reply.started": "2022-04-29T11:27:25.726763Z"
    }
   },
   "outputs": [
    {
     "name": "stdout",
     "output_type": "stream",
     "text": [
      "0.33647650306153076\n"
     ]
    }
   ],
   "source": [
    "df_train['tops_by_weight'] = df_train['Data'].apply(tops_by_weight, drop_from=2)\n",
    "print(mapk(df_train['Target'], df_train['tops_by_weight']))"
   ]
  },
  {
   "cell_type": "code",
   "execution_count": 8,
   "metadata": {},
   "outputs": [],
   "source": [
    "# df_test['Predicted'] = df_test['Data'].apply(tops_by_weight, drop_from=2)\n",
    "\n",
    "# submission = df_test[['Id', 'Predicted']]\n",
    "# submission['Predicted'] = submission['Predicted'].apply(lambda x: str(x).replace(',', '')[1:-1])\n",
    "# submission.to_csv('submission_tops_by_proba_final_2.csv', index=False)"
   ]
  }
 ],
 "metadata": {
  "kernelspec": {
   "display_name": "Python 3 (ipykernel)",
   "language": "python",
   "name": "python3"
  },
  "language_info": {
   "codemirror_mode": {
    "name": "ipython",
    "version": 3
   },
   "file_extension": ".py",
   "mimetype": "text/x-python",
   "name": "python",
   "nbconvert_exporter": "python",
   "pygments_lexer": "ipython3",
   "version": "3.11.5"
  }
 },
 "nbformat": 4,
 "nbformat_minor": 4
}
